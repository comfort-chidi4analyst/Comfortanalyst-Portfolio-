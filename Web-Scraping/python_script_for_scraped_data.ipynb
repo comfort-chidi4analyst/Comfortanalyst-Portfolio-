{
 "cells": [
  {
   "cell_type": "code",
   "execution_count": 4,
   "id": "cf8cc55e-7156-4275-b01d-257ccadd6d62",
   "metadata": {},
   "outputs": [
    {
     "name": "stdout",
     "output_type": "stream",
     "text": [
      "Scraped page 1 successfully\n",
      "Scraped page 2 successfully\n",
      "Scraped page 3 successfully\n",
      "Scraped page 4 successfully\n",
      "Scraped page 5 successfully\n",
      "Data saved to books.csv and books.json\n"
     ]
    }
   ],
   "source": [
    "\n",
    "\n",
    "import csv\n",
    "import json\n",
    "from bs4 import BeautifulSoup\n",
    "import requests\n",
    "# Base URL for pagination\n",
    "base_url = \"http://books.toscrape.com/catalogue/page-{}.html\"\n",
    "headers = {\"User-Agent\": \"Mozilla/5.0\"}\n",
    "\n",
    "all_books = []  # Store all books\n",
    "\n",
    "# Open CSV file for writing\n",
    "with open(\"books.csv\", \"w\", newline=\"\", encoding=\"utf-8\") as csvfile:\n",
    "    writer = csv.writer(csvfile)\n",
    "    writer.writerow([\"Title\", \"Price\"])  # CSV Header\n",
    "\n",
    "    # Loop through first 5 pages (change range to scrape more)\n",
    "    for page in range(1, 6):  \n",
    "        url = base_url.format(page)\n",
    "        response = requests.get(url, headers=headers)\n",
    "        \n",
    "        # Check if page exists (stop if it doesn't)\n",
    "        if response.status_code != 200:\n",
    "            print(f\"Page {page} not found, stopping.\")\n",
    "            break\n",
    "        \n",
    "        soup = BeautifulSoup(response.text, \"html.parser\")\n",
    "        books = soup.find_all(\"article\", class_=\"product_pod\")\n",
    "\n",
    "        for book in books:\n",
    "            title = book.h3.a[\"title\"]\n",
    "            price = book.find(\"p\", class_=\"price_color\").text\n",
    "\n",
    "            # Save data to CSV\n",
    "            writer.writerow([title, price])\n",
    "\n",
    "            # Save data to JSON list\n",
    "            all_books.append({\"Title\": title, \"Price\": price})\n",
    "\n",
    "        print(f\"Scraped page {page} successfully\")\n",
    "\n",
    "# Save JSON file\n",
    "with open(\"books.json\", \"w\", encoding=\"utf-8\") as jsonfile:\n",
    "    json.dump(all_books, jsonfile, indent=4)\n",
    "\n",
    "print(\"Data saved to books.csv and books.json\")\n"
   ]
  },
  {
   "cell_type": "code",
   "execution_count": 6,
   "id": "574afa82-11f9-4fda-b2df-ce39389de6f3",
   "metadata": {},
   "outputs": [
    {
     "name": "stdout",
     "output_type": "stream",
     "text": [
      "C:\\Users\\user\n"
     ]
    }
   ],
   "source": [
    "import os\n",
    "print(os.getcwd())  # This prints the folder where books.csv is saved\n"
   ]
  },
  {
   "cell_type": "code",
   "execution_count": null,
   "id": "7ac8cd54-05aa-4f69-a834-67dad532af8f",
   "metadata": {},
   "outputs": [],
   "source": []
  }
 ],
 "metadata": {
  "kernelspec": {
   "display_name": "Python [conda env:base] *",
   "language": "python",
   "name": "conda-base-py"
  },
  "language_info": {
   "codemirror_mode": {
    "name": "ipython",
    "version": 3
   },
   "file_extension": ".py",
   "mimetype": "text/x-python",
   "name": "python",
   "nbconvert_exporter": "python",
   "pygments_lexer": "ipython3",
   "version": "3.11.4"
  }
 },
 "nbformat": 4,
 "nbformat_minor": 5
}
